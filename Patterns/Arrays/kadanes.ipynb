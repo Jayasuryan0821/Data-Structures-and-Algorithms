{
 "cells": [
  {
   "cell_type": "code",
   "execution_count": 1,
   "metadata": {},
   "outputs": [
    {
     "data": {
      "text/plain": [
       "4"
      ]
     },
     "execution_count": 1,
     "metadata": {},
     "output_type": "execute_result"
    }
   ],
   "source": [
    "# BF implementation \n",
    "# time complexity: O(n^2) since we are running through 2 for loops of similar length\n",
    "# space complexity: O(n^1)\n",
    "\n",
    "def brute_force(nums):\n",
    "    max_sum = nums[0]\n",
    "    for i in range(len(nums)):\n",
    "        cur_sum = 0 \n",
    "        for j in range(i,len(nums)):\n",
    "            cur_sum += nums[j]\n",
    "            max_sum = max(max_sum,cur_sum)\n",
    "    return max_sum \n",
    "\n",
    "nums = [-2,1,-2,4]\n",
    "brute_force(nums)"
   ]
  },
  {
   "cell_type": "code",
   "execution_count": 2,
   "metadata": {},
   "outputs": [
    {
     "data": {
      "text/plain": [
       "7"
      ]
     },
     "execution_count": 2,
     "metadata": {},
     "output_type": "execute_result"
    }
   ],
   "source": [
    "# kadanes optimisation \n",
    "# 1.keep track of current sum and max sum \n",
    "# 2.before we add the curr element \n",
    "# check if curr sum is negative if it is reset to 0\n",
    "# 3.update the maxsum and cursum \n",
    "# Time complexity:  O(n)\n",
    "\n",
    "def kadanes(nums):\n",
    "    max_sum = nums[0]\n",
    "    cur_sum = 0\n",
    "    for i in nums:\n",
    "        cur_sum = max(cur_sum,0)\n",
    "        cur_sum += i \n",
    "        max_sum = max(max_sum,cur_sum)\n",
    "    return max_sum \n",
    "\n",
    "nums = [4,-1,2,-7,3,4]\n",
    "kadanes(nums)"
   ]
  },
  {
   "cell_type": "code",
   "execution_count": null,
   "metadata": {},
   "outputs": [
    {
     "data": {
      "text/plain": [
       "[4, 5]"
      ]
     },
     "execution_count": 3,
     "metadata": {},
     "output_type": "execute_result"
    }
   ],
   "source": [
    "# sliding window \n",
    "# if problem asks to return the subarray containing the largest sum \n",
    "# l,r = 0,0 \n",
    "# iterate the r ptr , similar checks for all iters:\n",
    "# curr_sum < 0, curr_sum = 0, l = r \n",
    "# max_sum = max(cur_sum,max_sum)\n",
    "# maxL,maxR -> ptrs that keep track of the subarray having the max sum \n",
    "# in this example I'm returning the indices of the contiguous array\n",
    "# Time Complexity: O(n)\n",
    "# Space Complexity: O(1)\n",
    "\n",
    "\n",
    "def sliding_window(nums):\n",
    "    max_sum = nums[0]\n",
    "    curr_sum = 0\n",
    "    l = 0\n",
    "    maxL,maxR = 0,0 \n",
    "\n",
    "    for r in range(len(nums)):\n",
    "        if curr_sum < 0:\n",
    "            curr_sum = 0 \n",
    "            l = r \n",
    "        \n",
    "        curr_sum += nums[r]\n",
    "        if curr_sum > max_sum:\n",
    "            max_sum = max(max_sum,curr_sum)\n",
    "            maxL,maxR = l,r\n",
    "    return [maxL,maxR]\n",
    "\n",
    "nums = [4,-1,2,-7,3,4]\n",
    "\n",
    "sliding_window(nums)\n"
   ]
  }
 ],
 "metadata": {
  "kernelspec": {
   "display_name": "base",
   "language": "python",
   "name": "python3"
  },
  "language_info": {
   "codemirror_mode": {
    "name": "ipython",
    "version": 3
   },
   "file_extension": ".py",
   "mimetype": "text/x-python",
   "name": "python",
   "nbconvert_exporter": "python",
   "pygments_lexer": "ipython3",
   "version": "3.12.7"
  }
 },
 "nbformat": 4,
 "nbformat_minor": 2
}
