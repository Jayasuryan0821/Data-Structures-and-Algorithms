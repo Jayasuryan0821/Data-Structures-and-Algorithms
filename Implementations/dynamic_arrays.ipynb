{
 "cells": [
  {
   "cell_type": "code",
   "execution_count": null,
   "metadata": {},
   "outputs": [
    {
     "name": "stdout",
     "output_type": "stream",
     "text": [
      "1\n",
      "2\n",
      "3\n",
      "4\n",
      "5\n",
      "10\n"
     ]
    }
   ],
   "source": [
    "class DynamicArray:\n",
    "    def __init__(self,array,capacity,length):\n",
    "        self.array = array\n",
    "        self.capacity = capacity\n",
    "        self.length = length\n",
    "\n",
    "    def resize(self):\n",
    "        self.capacity *= 2\n",
    "        new_arr = [0] * self.capacity\n",
    "\n",
    "        for i in range(self.length):\n",
    "            new_arr[i] = self.array[i]\n",
    "        self.array = new_arr\n",
    "    \n",
    "    def pushback(self,n):\n",
    "        if self.length == self.capacity:\n",
    "            self.resize()\n",
    "        self.array[self.length] = n\n",
    "        self.length += 1 \n",
    "    \n",
    "    def print(self):\n",
    "        for i in range(self.length):\n",
    "            print(self.array[i])\n",
    "\n",
    "\n",
    "capacity = 7\n",
    "length = 5 \n",
    "array = [1,2,3,4,5] + [0]*(capacity - length)\n",
    "\n",
    "arr = DynamicArray(array,capacity,length)\n",
    "arr.pushback(10)\n",
    "arr.print()\n"
   ]
  }
 ],
 "metadata": {
  "kernelspec": {
   "display_name": "base",
   "language": "python",
   "name": "python3"
  },
  "language_info": {
   "codemirror_mode": {
    "name": "ipython",
    "version": 3
   },
   "file_extension": ".py",
   "mimetype": "text/x-python",
   "name": "python",
   "nbconvert_exporter": "python",
   "pygments_lexer": "ipython3",
   "version": "3.12.7"
  }
 },
 "nbformat": 4,
 "nbformat_minor": 2
}
