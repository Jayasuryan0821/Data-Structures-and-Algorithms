{
 "cells": [
  {
   "cell_type": "code",
   "execution_count": 4,
   "metadata": {},
   "outputs": [
    {
     "name": "stdout",
     "output_type": "stream",
     "text": [
      "4\n"
     ]
    }
   ],
   "source": [
    "array = [1,2,3,4,5,6,7,8]\n",
    "# Accessing array elements\n",
    "print(array[3])"
   ]
  },
  {
   "cell_type": "code",
   "execution_count": null,
   "metadata": {},
   "outputs": [
    {
     "name": "stdout",
     "output_type": "stream",
     "text": [
      "[1, 2, 3, 4, 5, 6, 7]\n"
     ]
    }
   ],
   "source": [
    "# remove element from the end of the array\n",
    "length = len(array)\n",
    "\n",
    "def removeEnd(array,length):\n",
    "    if length > 0:\n",
    "        array[length - 1] = 0 \n",
    "        length -= 1 \n",
    "    return array[:length]\n",
    "\n",
    "print(removeEnd(array,length))"
   ]
  },
  {
   "cell_type": "code",
   "execution_count": null,
   "metadata": {},
   "outputs": [
    {
     "name": "stdout",
     "output_type": "stream",
     "text": [
      "[1, 3, 4]\n"
     ]
    }
   ],
   "source": [
    "# Remove an element at a specified index \n",
    "#  array = [1,2,3,4], index = 1\n",
    "#  iterate from i + 1 to the end of the array \n",
    "#  we have to assign the array[index - 1] = array[index]\n",
    "#  decrement the length \n",
    "\n",
    "def removeMiddle(array,i,length):\n",
    "    for index in range(i + 1,length):\n",
    "        array[index - 1] = array[index]\n",
    "    # array[length] = 0\n",
    "    length -= 1 \n",
    "    return array[:length]\n",
    "\n",
    "array = [1,2,3,4]\n",
    "print(removeMiddle(array,1,len(array)))        "
   ]
  },
  {
   "cell_type": "code",
   "execution_count": null,
   "metadata": {},
   "outputs": [
    {
     "name": "stdout",
     "output_type": "stream",
     "text": [
      "[1, 2, 3, 5]\n"
     ]
    }
   ],
   "source": [
    "#  insert an element at the end of the array\n",
    "#  length: no of elements in the array\n",
    "#  capacity: maximum no of the element\n",
    "\n",
    "def insertEnd(array,n,length,capacity):\n",
    "    if length < capacity:\n",
    "        array[length - 1] = n \n",
    "    return array[:length]\n",
    "\n",
    "array = [1,2,3,4,0,0]\n",
    "print(insertEnd(array,n=5,length=4,capacity=len(array)))\n",
    "      "
   ]
  },
  {
   "cell_type": "code",
   "execution_count": 13,
   "metadata": {},
   "outputs": [
    {
     "name": "stdout",
     "output_type": "stream",
     "text": [
      "[1, 2, 5, 3, 4]\n"
     ]
    }
   ],
   "source": [
    "# insert an element at any index in the array\n",
    "# array = [1,2,3,4,5,0,0] , length = 5,n = 8, i = 1  \n",
    "\n",
    "def insertMiddle(array,n,i,length):\n",
    "    for index in range(length - 1,i - 1,-1):\n",
    "        array[index + 1] = array[index] # i = 4 array = [1,2,3,4,5,0,0]\n",
    "    array[i] = n \n",
    "    return array[:length + 1]\n",
    "\n",
    "print(insertMiddle(array=[1,2,3,4,0,0],n=5,i=2,length=4))\n",
    "\n"
   ]
  }
 ],
 "metadata": {
  "kernelspec": {
   "display_name": "base",
   "language": "python",
   "name": "python3"
  },
  "language_info": {
   "codemirror_mode": {
    "name": "ipython",
    "version": 3
   },
   "file_extension": ".py",
   "mimetype": "text/x-python",
   "name": "python",
   "nbconvert_exporter": "python",
   "pygments_lexer": "ipython3",
   "version": "3.12.7"
  }
 },
 "nbformat": 4,
 "nbformat_minor": 2
}
